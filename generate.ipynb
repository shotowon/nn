{
 "cells": [
  {
   "cell_type": "code",
   "execution_count": null,
   "id": "1659dd79-6be4-43e4-9401-7f5aeb859cc7",
   "metadata": {},
   "outputs": [],
   "source": [
    "# Get random 100 reviews with 50 negative and 50 positive out of 50K dataset"
   ]
  },
  {
   "cell_type": "code",
   "execution_count": 2,
   "id": "aa828a55-4b7c-4829-bf7e-31ffc6e114e7",
   "metadata": {},
   "outputs": [
    {
     "name": "stdout",
     "output_type": "stream",
     "text": [
      "✅ Saved 100-sample dataset as IMDB_100_Sample.csv\n",
      "                                              review sentiment\n",
      "0  I viewed the first two nights before coming to...  negative\n",
      "1  It's been said several times - not least by me...  negative\n",
      "2  Without a doubt this is the WORSE comicbook mo...  negative\n",
      "3  Firstly, I would like to point out that people...  positive\n",
      "4  a compact crime drama with a good amount of ac...  positive\n"
     ]
    }
   ],
   "source": [
    "import pandas as pd\n",
    "\n",
    "df = pd.read_csv(\"IMDB Dataset.csv\")\n",
    "\n",
    "pos = df[df[\"sentiment\"] == \"positive\"].sample(50, random_state=42)\n",
    "neg = df[df[\"sentiment\"] == \"negative\"].sample(50, random_state=42)\n",
    "\n",
    "subset = pd.concat([pos, neg]).sample(frac=1, random_state=42).reset_index(drop=True)\n",
    "\n",
    "subset.to_csv(\"IMDB_100_Sample.csv\", index=False)\n",
    "\n",
    "print(\"Saved 100-sample dataset as IMDB_100_Sample.csv\")\n",
    "print(subset.head())\n"
   ]
  },
  {
   "cell_type": "code",
   "execution_count": null,
   "id": "a9706003-b499-4cbd-a887-fa4d1e1b8cf7",
   "metadata": {},
   "outputs": [],
   "source": []
  }
 ],
 "metadata": {
  "kernelspec": {
   "display_name": "Python 3 (ipykernel)",
   "language": "python",
   "name": "python3"
  },
  "language_info": {
   "codemirror_mode": {
    "name": "ipython",
    "version": 3
   },
   "file_extension": ".py",
   "mimetype": "text/x-python",
   "name": "python",
   "nbconvert_exporter": "python",
   "pygments_lexer": "ipython3",
   "version": "3.13.7"
  }
 },
 "nbformat": 4,
 "nbformat_minor": 5
}
